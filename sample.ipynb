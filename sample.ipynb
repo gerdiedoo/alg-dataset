{
 "cells": [
  {
   "cell_type": "code",
   "execution_count": 1,
   "id": "f9f35cac-a0ed-43c1-8de5-927cf3290904",
   "metadata": {},
   "outputs": [],
   "source": [
    "import torch\n",
    "import torch.nn as nn\n",
    "import torch.nn.functional as F"
   ]
  },
  {
   "cell_type": "code",
   "execution_count": 43,
   "id": "d255d1e8-4001-4e98-b24f-a29bcb9bb897",
   "metadata": {},
   "outputs": [
    {
     "data": {
      "text/plain": [
       "(tensor([[-2.0330,  0.0935, -0.0162, -1.4272,  1.2578],\n",
       "         [ 1.6089, -0.8222, -0.6058,  0.0606, -0.2345],\n",
       "         [ 1.2346,  0.3608,  0.8900, -0.3555,  0.5610]]),\n",
       " tensor([[1, 0, 0, 1, 0],\n",
       "         [0, 0, 0, 0, 0],\n",
       "         [0, 0, 1, 0, 0]]))"
      ]
     },
     "execution_count": 43,
     "metadata": {},
     "output_type": "execute_result"
    }
   ],
   "source": [
    "x = torch.randn(3, 5)\n",
    "y = torch.zeros(3, 5, dtype=torch.long)\n",
    "y[2, 2] = 1\n",
    "y[0, 3] = 1\n",
    "y[0, 0] = 1\n",
    "x, y"
   ]
  },
  {
   "cell_type": "code",
   "execution_count": 187,
   "id": "956221ee-f690-47cb-bfc8-54839494745f",
   "metadata": {},
   "outputs": [],
   "source": [
    "def focal_loss(y_hat, y, alpha=0.9, gamma=5.0):\n",
    "    y_hat = torch.sigmoid(y_hat)\n",
    "    \n",
    "    p_t = y * (y_hat) + ((1 - y) * (1 - y_hat))\n",
    "    a_t = y * alpha + ((1 - y) * (1 - alpha))    \n",
    "    \n",
    "    epsilon = 1e-6\n",
    "    \n",
    "    ce = -torch.log(p_t + epsilon)\n",
    "    \n",
    "    fl = a_t * ((1 - p_t) ** gamma) * ce\n",
    "    \n",
    "    return ce, a_t, p_t, fl.mean()\n",
    "\n",
    "def focal_loss(y_hat, y, alpha=0.9, gamma=5.0):\n",
    "    y = y.type(torch.float32)\n",
    "    y_hat = y_hat.type(torch.float32)\n",
    "    ce = F.binary_cross_entropy_with_logits(y_hat, y.type(torch.float32), reduction='none')\n",
    "    epsilon = 1e-6\n",
    "    # Calculate p_t and a_t as described in the paper.\n",
    "    # Undo sigmoid\n",
    "    p_t = torch.exp(-ce + epsilon)\n",
    "    a_t = y * alpha + ((1-y) * (1 - alpha))   \n",
    "    \n",
    "    fl = a_t * ((1 - p_t) ** gamma) * ce\n",
    "\n",
    "    return fl.mean().type(torch.float16)"
   ]
  },
  {
   "cell_type": "code",
   "execution_count": 199,
   "id": "b69887a2-41bb-4e9d-b8b0-5a44f59fe95b",
   "metadata": {},
   "outputs": [
    {
     "data": {
      "text/plain": [
       "(tensor([[2.1560, 0.7410, 0.6851, 1.6423, 1.5080],\n",
       "         [1.7913, 0.3643, 0.4354, 0.7239, 0.5828],\n",
       "         [1.4900, 0.8897, 0.3440, 0.5311, 1.0125]]),\n",
       " tensor([[0.2000, 0.8000, 0.8000, 0.2000, 0.8000],\n",
       "         [0.8000, 0.8000, 0.8000, 0.8000, 0.8000],\n",
       "         [0.8000, 0.8000, 0.2000, 0.8000, 0.8000]]),\n",
       " tensor([[0.1158, 0.4766, 0.5041, 0.1935, 0.2213],\n",
       "         [0.1667, 0.6947, 0.6470, 0.4849, 0.5584],\n",
       "         [0.2254, 0.4108, 0.7089, 0.5879, 0.3633]]),\n",
       " tensor(0.4088))"
      ]
     },
     "execution_count": 199,
     "metadata": {},
     "output_type": "execute_result"
    }
   ],
   "source": [
    "focal_loss(x, y, gamma=1.0, alpha=0.2)"
   ]
  },
  {
   "cell_type": "code",
   "execution_count": 194,
   "id": "7a48ccf5-2cef-4e09-90d1-ab55bf3e9a2f",
   "metadata": {},
   "outputs": [
    {
     "data": {
      "text/plain": [
       "(tensor([[2.1560, 0.7410, 0.6851, 1.6423, 1.5080],\n",
       "         [1.7913, 0.3643, 0.4354, 0.7239, 0.5828],\n",
       "         [1.4900, 0.8898, 0.3440, 0.5311, 1.0125]]),\n",
       " tensor([[0.2000, 0.8000, 0.8000, 0.2000, 0.8000],\n",
       "         [0.8000, 0.8000, 0.8000, 0.8000, 0.8000],\n",
       "         [0.8000, 0.8000, 0.2000, 0.8000, 0.8000]]),\n",
       " tensor([[0.1158, 0.4766, 0.5041, 0.1935, 0.2213],\n",
       "         [0.1667, 0.6947, 0.6470, 0.4849, 0.5584],\n",
       "         [0.2254, 0.4108, 0.7089, 0.5879, 0.3633]]),\n",
       " tensor(0.6288))"
      ]
     },
     "execution_count": 194,
     "metadata": {},
     "output_type": "execute_result"
    }
   ],
   "source": [
    "focal_loss_2(x, y, gamma=0.0, alpha=0.2)"
   ]
  },
  {
   "cell_type": "code",
   "execution_count": null,
   "id": "60e10d40-fbe1-4aeb-81b6-f61fb5bb8b28",
   "metadata": {},
   "outputs": [],
   "source": []
  },
  {
   "cell_type": "code",
   "execution_count": null,
   "id": "02c85c9f-ffcb-4328-aed2-7a7052fec29b",
   "metadata": {},
   "outputs": [],
   "source": []
  }
 ],
 "metadata": {
  "kernelspec": {
   "display_name": "Python 3 (ipykernel)",
   "language": "python",
   "name": "python3"
  },
  "language_info": {
   "codemirror_mode": {
    "name": "ipython",
    "version": 3
   },
   "file_extension": ".py",
   "mimetype": "text/x-python",
   "name": "python",
   "nbconvert_exporter": "python",
   "pygments_lexer": "ipython3",
   "version": "3.9.12"
  }
 },
 "nbformat": 4,
 "nbformat_minor": 5
}
